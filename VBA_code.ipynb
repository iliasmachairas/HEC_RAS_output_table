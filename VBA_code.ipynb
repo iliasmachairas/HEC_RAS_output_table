{
 "cells": [
  {
   "cell_type": "code",
   "execution_count": 1,
   "id": "47ddb4b4",
   "metadata": {},
   "outputs": [],
   "source": [
    "import win32com.client\n",
    "from pywintypes import com_error\n",
    "import pandas as pd"
   ]
  },
  {
   "cell_type": "code",
   "execution_count": 2,
   "id": "2bf0defd",
   "metadata": {},
   "outputs": [],
   "source": [
    "# Read the file\n"
   ]
  },
  {
   "cell_type": "code",
   "execution_count": 3,
   "id": "1149de3a",
   "metadata": {},
   "outputs": [],
   "source": [
    "col_names_English = ['Reach', 'River Station', 'Profile', 'Number', 'Q Total', 'Min Ch El', 'W.S. Elev', 'Crit W.S.',\n",
    "                    'E.G. Elev', 'E.G. Slope', 'Vel Chnl', 'Flow Area', 'Top Width', 'Froude # Chl']"
   ]
  },
  {
   "cell_type": "code",
   "execution_count": 4,
   "id": "9e2d253b",
   "metadata": {},
   "outputs": [
    {
     "data": {
      "text/html": [
       "<div>\n",
       "<style scoped>\n",
       "    .dataframe tbody tr th:only-of-type {\n",
       "        vertical-align: middle;\n",
       "    }\n",
       "\n",
       "    .dataframe tbody tr th {\n",
       "        vertical-align: top;\n",
       "    }\n",
       "\n",
       "    .dataframe thead th {\n",
       "        text-align: right;\n",
       "    }\n",
       "</style>\n",
       "<table border=\"1\" class=\"dataframe\">\n",
       "  <thead>\n",
       "    <tr style=\"text-align: right;\">\n",
       "      <th></th>\n",
       "      <th>Reach</th>\n",
       "      <th>River Station</th>\n",
       "      <th>Profile</th>\n",
       "      <th>Number</th>\n",
       "      <th>Q Total</th>\n",
       "      <th>Min Ch El</th>\n",
       "      <th>W.S. Elev</th>\n",
       "      <th>Crit W.S.</th>\n",
       "      <th>E.G. Elev</th>\n",
       "      <th>E.G. Slope</th>\n",
       "      <th>Vel Chnl</th>\n",
       "      <th>Flow Area</th>\n",
       "      <th>Top Width</th>\n",
       "      <th>Froude # Chl</th>\n",
       "    </tr>\n",
       "  </thead>\n",
       "  <tbody>\n",
       "    <tr>\n",
       "      <th>0</th>\n",
       "      <td>YF1</td>\n",
       "      <td>4160.00</td>\n",
       "      <td>PF</td>\n",
       "      <td>1</td>\n",
       "      <td>250.0</td>\n",
       "      <td>281.57</td>\n",
       "      <td>285.83</td>\n",
       "      <td>285.83</td>\n",
       "      <td>286.84</td>\n",
       "      <td>0.008232</td>\n",
       "      <td>4.44</td>\n",
       "      <td>56.34</td>\n",
       "      <td>28.31</td>\n",
       "      <td>1.00</td>\n",
       "    </tr>\n",
       "    <tr>\n",
       "      <th>1</th>\n",
       "      <td>YF1</td>\n",
       "      <td>4145.79</td>\n",
       "      <td>PF</td>\n",
       "      <td>1</td>\n",
       "      <td>250.0</td>\n",
       "      <td>281.04</td>\n",
       "      <td>286.18</td>\n",
       "      <td>285.20</td>\n",
       "      <td>286.44</td>\n",
       "      <td>0.001750</td>\n",
       "      <td>2.28</td>\n",
       "      <td>109.84</td>\n",
       "      <td>49.30</td>\n",
       "      <td>0.49</td>\n",
       "    </tr>\n",
       "    <tr>\n",
       "      <th>2</th>\n",
       "      <td>YF1</td>\n",
       "      <td>4140.00</td>\n",
       "      <td>PF</td>\n",
       "      <td>1</td>\n",
       "      <td>250.0</td>\n",
       "      <td>280.89</td>\n",
       "      <td>286.19</td>\n",
       "      <td>NaN</td>\n",
       "      <td>286.43</td>\n",
       "      <td>0.001487</td>\n",
       "      <td>2.15</td>\n",
       "      <td>116.47</td>\n",
       "      <td>50.37</td>\n",
       "      <td>0.45</td>\n",
       "    </tr>\n",
       "    <tr>\n",
       "      <th>3</th>\n",
       "      <td>YF1</td>\n",
       "      <td>4132.45</td>\n",
       "      <td>PF</td>\n",
       "      <td>1</td>\n",
       "      <td>250.0</td>\n",
       "      <td>280.70</td>\n",
       "      <td>286.11</td>\n",
       "      <td>NaN</td>\n",
       "      <td>286.41</td>\n",
       "      <td>0.002098</td>\n",
       "      <td>2.43</td>\n",
       "      <td>103.04</td>\n",
       "      <td>47.54</td>\n",
       "      <td>0.53</td>\n",
       "    </tr>\n",
       "    <tr>\n",
       "      <th>4</th>\n",
       "      <td>YF1</td>\n",
       "      <td>4120.00</td>\n",
       "      <td>PF</td>\n",
       "      <td>1</td>\n",
       "      <td>250.0</td>\n",
       "      <td>280.36</td>\n",
       "      <td>285.92</td>\n",
       "      <td>NaN</td>\n",
       "      <td>286.36</td>\n",
       "      <td>0.003767</td>\n",
       "      <td>2.94</td>\n",
       "      <td>85.05</td>\n",
       "      <td>44.37</td>\n",
       "      <td>0.68</td>\n",
       "    </tr>\n",
       "  </tbody>\n",
       "</table>\n",
       "</div>"
      ],
      "text/plain": [
       "  Reach  River Station Profile  Number  Q Total  Min Ch El  W.S. Elev  \\\n",
       "0   YF1        4160.00      PF       1    250.0     281.57     285.83   \n",
       "1   YF1        4145.79      PF       1    250.0     281.04     286.18   \n",
       "2   YF1        4140.00      PF       1    250.0     280.89     286.19   \n",
       "3   YF1        4132.45      PF       1    250.0     280.70     286.11   \n",
       "4   YF1        4120.00      PF       1    250.0     280.36     285.92   \n",
       "\n",
       "   Crit W.S.  E.G. Elev  E.G. Slope  Vel Chnl  Flow Area  Top Width  \\\n",
       "0     285.83     286.84    0.008232      4.44      56.34      28.31   \n",
       "1     285.20     286.44    0.001750      2.28     109.84      49.30   \n",
       "2        NaN     286.43    0.001487      2.15     116.47      50.37   \n",
       "3        NaN     286.41    0.002098      2.43     103.04      47.54   \n",
       "4        NaN     286.36    0.003767      2.94      85.05      44.37   \n",
       "\n",
       "   Froude # Chl  \n",
       "0          1.00  \n",
       "1          0.49  \n",
       "2          0.45  \n",
       "3          0.53  \n",
       "4          0.68  "
      ]
     },
     "execution_count": 4,
     "metadata": {},
     "output_type": "execute_result"
    }
   ],
   "source": [
    "data = pd.read_fwf('hec_ras_output (1).txt', skiprows=10)\n",
    "data.columns = col_names_English\n",
    "data.head()"
   ]
  },
  {
   "cell_type": "code",
   "execution_count": 5,
   "id": "f9437796",
   "metadata": {},
   "outputs": [
    {
     "data": {
      "text/plain": [
       "(14,)"
      ]
     },
     "execution_count": 5,
     "metadata": {},
     "output_type": "execute_result"
    }
   ],
   "source": [
    "data.columns.shape"
   ]
  },
  {
   "cell_type": "code",
   "execution_count": null,
   "id": "819cc091",
   "metadata": {},
   "outputs": [],
   "source": []
  },
  {
   "cell_type": "code",
   "execution_count": 6,
   "id": "7c8b6766",
   "metadata": {},
   "outputs": [],
   "source": [
    "import os\n",
    "import shutil\n",
    "\n",
    "cwd = os.getcwd()\n",
    "direcory_name = 'HEC_RAS_excel_pdf'\n",
    "path = os.path.join(cwd, direcory_name)\n",
    "\n",
    "if os.path.exists(path) and os.path.isdir(path):\n",
    "    shutil.rmtree(path)\n",
    "\n",
    "os.mkdir(path)"
   ]
  },
  {
   "cell_type": "code",
   "execution_count": 7,
   "id": "4bce6424",
   "metadata": {},
   "outputs": [
    {
     "data": {
      "text/plain": [
       "'D:\\\\Github_Scripts\\\\VBA\\\\HEC_RAS_excel_pdf'"
      ]
     },
     "execution_count": 7,
     "metadata": {},
     "output_type": "execute_result"
    }
   ],
   "source": [
    "path"
   ]
  },
  {
   "cell_type": "code",
   "execution_count": null,
   "id": "be083e1a",
   "metadata": {},
   "outputs": [],
   "source": []
  },
  {
   "cell_type": "code",
   "execution_count": 8,
   "id": "d9386714",
   "metadata": {},
   "outputs": [
    {
     "name": "stdout",
     "output_type": "stream",
     "text": [
      "D:\\Github_Scripts\\VBA\\HEC_RAS_excel_pdf\\Hydraulic.xlsx\n"
     ]
    }
   ],
   "source": [
    "import os\n",
    "excel_name = os.path.join(path, 'Hydraulic.xlsx')\n",
    "print(excel_name)\n",
    "data.to_excel(excel_name)"
   ]
  },
  {
   "cell_type": "code",
   "execution_count": 9,
   "id": "57c835e6",
   "metadata": {},
   "outputs": [
    {
     "data": {
      "text/plain": [
       "'D:\\\\Github_Scripts\\\\VBA\\\\HEC_RAS_excel_pdf\\\\Hydraulic.xlsx'"
      ]
     },
     "execution_count": 9,
     "metadata": {},
     "output_type": "execute_result"
    }
   ],
   "source": [
    "excel_name"
   ]
  },
  {
   "cell_type": "code",
   "execution_count": 10,
   "id": "528816c4",
   "metadata": {},
   "outputs": [],
   "source": [
    "excel = win32com.client.Dispatch(\"Excel.Application\")\n",
    "  \n",
    "# Read Excel File\n",
    "excel.Visible = False\n",
    "excel.DisplayAlerts=False\n",
    "sheets = excel.Workbooks.Open(excel_name)\n",
    "path_pdf = os.path.join(path, 'Hydraulic_Calc.pdf')\n",
    "\n",
    "sheets.ExportAsFixedFormat(Type=0,  Filename=path_pdf,\n",
    "                          IgnorePrintAreas=False)"
   ]
  }
 ],
 "metadata": {
  "kernelspec": {
   "display_name": "Python 3 (ipykernel)",
   "language": "python",
   "name": "python3"
  },
  "language_info": {
   "codemirror_mode": {
    "name": "ipython",
    "version": 3
   },
   "file_extension": ".py",
   "mimetype": "text/x-python",
   "name": "python",
   "nbconvert_exporter": "python",
   "pygments_lexer": "ipython3",
   "version": "3.8.10"
  }
 },
 "nbformat": 4,
 "nbformat_minor": 5
}
